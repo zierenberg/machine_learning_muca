{
  "nbformat": 4,
  "nbformat_minor": 0,
  "metadata": {
    "anaconda-cloud": {},
    "kernelspec": {
      "display_name": "Python 3",
      "language": "python",
      "name": "python3"
    },
    "language_info": {
      "codemirror_mode": {
        "name": "ipython",
        "version": 3
      },
      "file_extension": ".py",
      "mimetype": "text/x-python",
      "name": "python",
      "nbconvert_exporter": "python",
      "pygments_lexer": "ipython3",
      "version": "3.7.4"
    },
    "colab": {
      "name": "test_2019_noe_et_al_fig2_doubleWell.ipynb",
      "provenance": [],
      "toc_visible": true,
      "include_colab_link": true
    }
  },
  "cells": [
    {
      "cell_type": "markdown",
      "metadata": {
        "id": "view-in-github",
        "colab_type": "text"
      },
      "source": [
        "<a href=\"https://colab.research.google.com/github/zierenberg/machine_learning_muca/blob/master/test_2019_noe_et_al_fig2_doubleWell.ipynb\" target=\"_parent\"><img src=\"https://colab.research.google.com/assets/colab-badge.svg\" alt=\"Open In Colab\"/></a>"
      ]
    },
    {
      "cell_type": "code",
      "metadata": {
        "id": "8bjcYIjqM5NJ",
        "colab_type": "code",
        "colab": {
          "base_uri": "https://localhost:8080/",
          "height": 35
        },
        "outputId": "02e2abb4-1750-43b4-83b7-a4e4246dec35"
      },
      "source": [
        "!git clone https://github.com/zierenberg/machine_learning_muca.git"
      ],
      "execution_count": 9,
      "outputs": [
        {
          "output_type": "stream",
          "text": [
            "fatal: destination path 'machine_learning_muca' already exists and is not an empty directory.\n"
          ],
          "name": "stdout"
        }
      ]
    },
    {
      "cell_type": "code",
      "metadata": {
        "id": "7WZMDn37Mx_W",
        "colab_type": "code",
        "colab": {}
      },
      "source": [
        "import numpy as np\n",
        "import matplotlib.pyplot as plt\n",
        "from matplotlib import rcParams\n",
        "import keras\n",
        "import tensorflow as tf"
      ],
      "execution_count": 0,
      "outputs": []
    },
    {
      "cell_type": "code",
      "metadata": {
        "id": "54fkRKE4Mx_y",
        "colab_type": "code",
        "colab": {}
      },
      "source": [
        "from IPython.display import SVG\n",
        "from keras.utils.vis_utils import model_to_dot"
      ],
      "execution_count": 0,
      "outputs": []
    },
    {
      "cell_type": "code",
      "metadata": {
        "id": "51e-xXFJMyAJ",
        "colab_type": "code",
        "colab": {}
      },
      "source": [
        "rcParams.update({'font.size': 16})"
      ],
      "execution_count": 0,
      "outputs": []
    },
    {
      "cell_type": "code",
      "metadata": {
        "id": "RzPSpNmnMyAX",
        "colab_type": "code",
        "colab": {}
      },
      "source": [
        "# Switch AUTORELOAD ON. Disable this when in production mode!\n",
        "%load_ext autoreload\n",
        "%autoreload 2"
      ],
      "execution_count": 0,
      "outputs": []
    },
    {
      "cell_type": "code",
      "metadata": {
        "id": "hkra9uLqMyAo",
        "colab_type": "code",
        "colab": {}
      },
      "source": [
        "import sys\n",
        "sys.path.append(\"machine_learning_muca/2019_noe_deep_boltzmann_tfv2\")\n",
        "\n",
        "from deep_boltzmann.models import DoubleWell\n",
        "from deep_boltzmann.networks.invertible import create_NICERNet, create_RealNVPNet, invnet\n",
        "from deep_boltzmann.sampling import GaussianPriorMCMC\n",
        "from deep_boltzmann.networks.plot import test_xz_projection\n",
        "from deep_boltzmann.util import count_transitions\n",
        "from deep_boltzmann.sampling.analysis import free_energy_bootstrap, mean_finite, std_finite"
      ],
      "execution_count": 0,
      "outputs": []
    },
    {
      "cell_type": "code",
      "metadata": {
        "id": "rM6AzM68MyA2",
        "colab_type": "code",
        "colab": {}
      },
      "source": [
        "def test_sample(network, temperature=1.0, nsample=100000, plot=True):\n",
        "    if nsample <= 100000:\n",
        "        sample_z, sample_x, energy_z, energy_x, logw = network.sample(temperature=temperature, nsample=nsample)\n",
        "    else:\n",
        "        sample_x = []\n",
        "        for i in range(int(nsample/100000)):\n",
        "            _, sample_x_, _, _, _ = network.sample(temperature=temperature, nsample=nsample)\n",
        "            sample_x.append(sample_x_)\n",
        "        sample_x = np.vstack(sample_x)\n",
        "        \n",
        "    # xgen = network.Tzx.predict(np.sqrt(temperature) * np.random.randn(100000, 2))\n",
        "    params = DoubleWell.params_default.copy()\n",
        "    params['dim'] = 2\n",
        "    double_well = DoubleWell(params=params)\n",
        "    plt.figure(figsize=(4, 4))\n",
        "    h, b = np.histogram(sample_x[:, 0], bins=100)\n",
        "    bin_means = 0.5*(b[:-1] + b[1:])\n",
        "    Eh = -np.log(h) / temperature\n",
        "    if plot:\n",
        "        Ex, E = double_well.plot_dimer_energy(temperature=temperature)\n",
        "        Eh = Eh - Eh.min() + E.min()\n",
        "        plt.plot(bin_means, Eh, color='green', linewidth=2)\n",
        "    return bin_means, Eh"
      ],
      "execution_count": 0,
      "outputs": []
    },
    {
      "cell_type": "code",
      "metadata": {
        "id": "Shn25Ba3MyBD",
        "colab_type": "code",
        "colab": {}
      },
      "source": [
        "# reweighting\n",
        "def test_sample_rew(network, temperature=1.0, plot=True):\n",
        "    sample_z, sample_x, energy_z, energy_x, log_w = network.sample(temperature=1.0, nsample=100000)\n",
        "    log_w -= log_w.max()\n",
        "    bin_means, Es = free_energy_bootstrap(sample_x[:, 0], -2.5, 2.5, 100, nbootstrap=100)\n",
        "    plt.figure(figsize=(4, 4))\n",
        "    Emean = mean_finite(Es, axis=0)-10.7\n",
        "    Estd = std_finite(Es, axis=0)\n",
        "    var = mean_finite(std_finite(Es, axis=0) ** 2)\n",
        "    if plot:\n",
        "        double_well.plot_dimer_energy()\n",
        "        plt.errorbar(bin_means, Emean, Estd, linewidth=2, color='green')\n",
        "    # variance\n",
        "    print('Estimator Standard Error: ', np.sqrt(var))\n",
        "    return bin_means, Emean, Estd"
      ],
      "execution_count": 0,
      "outputs": []
    },
    {
      "cell_type": "code",
      "metadata": {
        "id": "KiOQD4ZfMyBP",
        "colab_type": "code",
        "colab": {}
      },
      "source": [
        "def hist_weights(network):\n",
        "    sample_z, sample_x, energy_z, energy_x, log_w = network.sample(temperature=1.0, nsample=100000)\n",
        "    log_w -= log_w.max()\n",
        "    bins = np.linspace(-2.5, 2.5, 100)\n",
        "    bin_means = 0.5 * (bins[:-1] + bins[1:])\n",
        "    sample_x_index = np.digitize(sample_x[:, 0], bins)\n",
        "    whist = np.zeros(len(bins) + 1)\n",
        "    for i in range(len(log_w)):\n",
        "        whist[sample_x_index[i]] += np.exp(log_w[i])\n",
        "    return bin_means, whist[1:-1]"
      ],
      "execution_count": 0,
      "outputs": []
    },
    {
      "cell_type": "code",
      "metadata": {
        "id": "P2jrBuSnMyBa",
        "colab_type": "code",
        "colab": {}
      },
      "source": [
        "def test_mcmc(network, nsample):\n",
        "    fig, axes = plt.subplots(2, 1, figsize=(7, 7))\n",
        "    # test sampling\n",
        "    gp_mcmc = GaussianPriorMCMC(network)#, std_z=[0.7, 1.0])\n",
        "    Z, X, E, J = gp_mcmc.run(nsample)\n",
        "    print('Transitions:', count_transitions(X[:, 0], -1, 1))\n",
        "    axes[0].plot(X[:min(10000, nsample), 0])\n",
        "    # plot PMF\n",
        "    h, b = np.histogram(X[:, 0], bins=100)\n",
        "    b = 0.5 * (b[:-1] + b[1:])\n",
        "    F = -np.log(h)\n",
        "    Edimer = double_well.plot_dimer_energy(axes[1])\n",
        "    axes[1].plot(b, F-F.min()+Edimer.min())"
      ],
      "execution_count": 0,
      "outputs": []
    },
    {
      "cell_type": "code",
      "metadata": {
        "id": "tNx6nICDMyBl",
        "colab_type": "code",
        "colab": {}
      },
      "source": [
        "def plot_transformation_field_2d(transformer, bounds, ngrid=20, ):\n",
        "    # build grid\n",
        "    x_coarse_grid = np.linspace(bounds[0], bounds[1], num=ngrid)\n",
        "    y_coarse_grid = np.linspace(bounds[2], bounds[3], num=ngrid)\n",
        "    grid = []\n",
        "    for i in range(len(x_coarse_grid)):\n",
        "        for j in range(len(y_coarse_grid)):\n",
        "            grid.append([x_coarse_grid[i], y_coarse_grid[j]])\n",
        "    grid = np.array(grid)\n",
        "\n",
        "    # compute transformation field\n",
        "    grid_pred = transformer.predict(grid)\n",
        "\n",
        "    # show field\n",
        "    plt.figure(figsize=(5, 5))\n",
        "    plt.quiver(grid[:, 0], grid[:, 1], grid_pred[:, 0], grid_pred[:, 1], units='width')"
      ],
      "execution_count": 0,
      "outputs": []
    },
    {
      "cell_type": "code",
      "metadata": {
        "id": "kF_kSWDeMyBw",
        "colab_type": "code",
        "colab": {}
      },
      "source": [
        "def getx(x):\n",
        "    return x[:, 0]"
      ],
      "execution_count": 0,
      "outputs": []
    },
    {
      "cell_type": "markdown",
      "metadata": {
        "id": "54o7_eRTMyB8",
        "colab_type": "text"
      },
      "source": [
        "Plotting function, sort of generic\n",
        "-----"
      ]
    },
    {
      "cell_type": "code",
      "metadata": {
        "id": "j69gBXQYMyB-",
        "colab_type": "code",
        "colab": {}
      },
      "source": [
        "def plot_network(network, weight_cutoff=1e-2):\n",
        "    fig, axes = plt.subplots(nrows=1, ncols=4, figsize=(16, 3.5))\n",
        "    plt.subplots_adjust(wspace=0.25)\n",
        "    # Plot X distribution\n",
        "    axis = axes[0]\n",
        "    axis.plot(traj_left[:, 0], traj_left[:, 1], linewidth=0, marker='.', markersize=3, color='blue')\n",
        "    axis.plot(x_ts[:, 0], x_ts[:, 1], linewidth=0, marker='.', markersize=3, color='orange')\n",
        "    axis.plot(traj_right[:, 0], traj_right[:, 1], linewidth=0, marker='.', markersize=3, color='red')\n",
        "    axis.set_xlabel('$x_1$')\n",
        "    axis.set_xlim(-3, 3)\n",
        "    axis.set_ylabel('$x_2$', labelpad=-12)\n",
        "    axis.set_ylim(-4, 4)\n",
        "    axis.set_yticks([-4, -2, 0, 2, 4]);\n",
        "    # Plot Z distribution\n",
        "    axis = axes[1]\n",
        "    z_left = network.transform_xz(traj_left)\n",
        "    z_ts = network.transform_xz(x_ts)\n",
        "    z_right = network.transform_xz(traj_right)\n",
        "    axis.plot(z_left[:, 0], z_left[:, 1], linewidth=0, marker='.', markersize=3, color='blue')\n",
        "    axis.plot(z_ts[:, 0], z_ts[:, 1], linewidth=0, marker='.', markersize=3, color='orange')\n",
        "    axis.plot(z_right[:, 0], z_right[:, 1], linewidth=0, marker='.', markersize=3, color='red')\n",
        "    circle = plt.Circle((0, 0), radius=1.0, color='black', alpha=0.4, fill=True)\n",
        "    axis.add_artist(circle)\n",
        "    circle = plt.Circle((0, 0), radius=2.0, color='black', alpha=0.25, fill=True)\n",
        "    axis.add_artist(circle)\n",
        "    circle = plt.Circle((0, 0), radius=3.0, color='black', alpha=0.1, fill=True)\n",
        "    axis.add_artist(circle)\n",
        "    axis.set_xlabel('$z_1$')\n",
        "    axis.set_xlim(-4, 4)\n",
        "    axis.set_ylabel('$z_2$', labelpad=-12)\n",
        "    axis.set_ylim(-4, 4)\n",
        "    axis.set_yticks([-4, -2, 0, 2, 4]);\n",
        "    # Plot proposal distribution\n",
        "    X1, Y1 = test_sample(network, temperature=1.0, plot=False);\n",
        "    _, W1 = hist_weights(network)\n",
        "    axis = axes[2]\n",
        "    Ex, E = double_well.plot_dimer_energy(axis=axis, temperature=1.0)\n",
        "    Y1 = Y1 - Y1.min() + E.min()\n",
        "    Inan = np.where(W1 < weight_cutoff)\n",
        "    Y1[Inan] = np.nan\n",
        "    #Y2 = Y2 - Y2.min() + E.min()\n",
        "    #axis.plot(X2, Y2, color='#FF6600', linewidth=2, label='ML+KL+RC')\n",
        "    axis.plot(X1, Y1, color='orange', linewidth=2, label='ML+KL')\n",
        "    axis.set_xlim(-3, 3)\n",
        "    axis.set_ylim(-12, 5.5)\n",
        "    axis.set_yticks([]);\n",
        "    axis.set_xlabel('$x_1$')\n",
        "    axis.set_ylabel('Energy / kT')\n",
        "    #plt.legend(ncol=1, loc=9, fontsize=12, frameon=False)\n",
        "    # Plot reweighted distribution\n",
        "    RX1, RY1, DR1 = test_sample_rew(network, temperature=1.0, plot=False);\n",
        "    axis = axes[3]\n",
        "    Ex, E = double_well.plot_dimer_energy(axis=axis, temperature=1.0)\n",
        "    RY1 = RY1 - RY1[np.isfinite(RY1)].min() + E.min()\n",
        "    RY1[Inan] = np.nan\n",
        "    #RY1[RY1 > -4] = np.nan\n",
        "    #RY2 = RY2 - RY2[np.isfinite(RY2)].min() + E.min()\n",
        "    #axis.errorbar(RX2, RY2, DR2, color='#FF6600', linewidth=2, label='ML+KL+RC')\n",
        "    axis.errorbar(RX1, RY1, DR1, color='orange', linewidth=2, label='ML+KL')\n",
        "    axis.set_xlim(-3, 3)\n",
        "    axis.set_ylim(-12, 5.5)\n",
        "    axis.set_yticks([-12, -10, -8, -6, -4, -2, 0, 2, 4]);\n",
        "    axis.set_xlabel('$x_1$')\n",
        "    axis.set_ylabel('')\n",
        "    return fig, axes"
      ],
      "execution_count": 0,
      "outputs": []
    },
    {
      "cell_type": "code",
      "metadata": {
        "id": "wsroeBRnMyCK",
        "colab_type": "code",
        "colab": {}
      },
      "source": [
        "def low_energy_fraction(energies, Emax):\n",
        "    low_energy_count = [np.count_nonzero(E<Emax) for E in energies]\n",
        "    sizes = [E.size for E in energies]\n",
        "    low_energy_fraction = np.array(low_energy_count) / sizes\n",
        "    return low_energy_fraction"
      ],
      "execution_count": 0,
      "outputs": []
    },
    {
      "cell_type": "code",
      "metadata": {
        "id": "vNIvXCfoMyCY",
        "colab_type": "code",
        "colab": {}
      },
      "source": [
        "def plot_convergence(hist_ML, hist_KL, enerx_cut, enerz_cut, MLcol=1, KLcol=2):\n",
        "    fig, axes = plt.subplots(nrows=3, ncols=1, figsize=(5, 10))\n",
        "    niter1 = len(hist_ML[0])\n",
        "    niter2 = hist_KL[1].shape[0]\n",
        "    niter = niter1 + niter2\n",
        "    # ML loss\n",
        "    losses_ML = np.concatenate([hist_ML[0], hist_KL[1][:, MLcol]])\n",
        "    xticks = np.arange(niter1 + niter2) + 1\n",
        "    axes[0].plot(xticks, losses_ML, color='black')\n",
        "    axes[0].set_xlim(0, niter + 1)\n",
        "    axes[0].set_ylabel('ML loss')\n",
        "    axes[0].axvline(x=200, color='red', linestyle='--', linewidth=3)\n",
        "    # KL loss\n",
        "    losses_KL = hist_KL[1][:, KLcol]\n",
        "    xticks = np.arange(niter1, niter1 + niter2) + 1\n",
        "    axes[1].plot(xticks, losses_KL, color='black')\n",
        "    axes[1].set_xlim(0, niter + 1)\n",
        "    axes[1].set_ylabel('KL loss')\n",
        "    axes[1].axvline(x=200, color='red', linestyle='--', linewidth=3)\n",
        "    # low energy fractions\n",
        "    enerx = hist_ML[2] + hist_KL[3]\n",
        "    enerz = hist_ML[3] + hist_KL[4]\n",
        "    lef_x = low_energy_fraction(enerx, enerx_cut)\n",
        "    lef_z = low_energy_fraction(enerz, enerz_cut)\n",
        "    axes[2].plot(lef_x, color='black', label='x')\n",
        "    axes[2].plot(lef_z, color='blue', label='z')\n",
        "    axes[2].set_xlim(0, niter + 1)\n",
        "    axes[2].set_ylim(0, 1.05)\n",
        "    axes[2].axvline(x=200, color='red', linestyle='--', linewidth=3)\n",
        "    axes[2].set_ylabel('Training iterations')\n",
        "    axes[2].set_ylabel('Low energy fraction')\n",
        "    axes[2].legend()\n",
        "    return fig, axes"
      ],
      "execution_count": 0,
      "outputs": []
    },
    {
      "cell_type": "markdown",
      "metadata": {
        "id": "dlDBNewhMyCh",
        "colab_type": "text"
      },
      "source": [
        "Double well\n",
        "---"
      ]
    },
    {
      "cell_type": "code",
      "metadata": {
        "id": "lLBFziZJMyCi",
        "colab_type": "code",
        "colab": {}
      },
      "source": [
        "paper_dir = './'"
      ],
      "execution_count": 0,
      "outputs": []
    },
    {
      "cell_type": "code",
      "metadata": {
        "id": "3tjfXcrfMyCu",
        "colab_type": "code",
        "colab": {
          "base_uri": "https://localhost:8080/",
          "height": 349
        },
        "outputId": "ed06da4d-f14e-4946-c192-c58e7af681ee"
      },
      "source": [
        "params = DoubleWell.params_default.copy()\n",
        "double_well = DoubleWell(params=params)\n",
        "plt.figure(figsize=(5,5))\n",
        "double_well.plot_dimer_energy();\n",
        "#plt.savefig(paper_dir + 'figs/double_well/potential.pdf', bbox_inches='tight')"
      ],
      "execution_count": 36,
      "outputs": [
        {
          "output_type": "display_data",
          "data": {
            "image/png": "[encoded data removed]",
            "text/plain": [
              "<Figure size 360x360 with 1 Axes>"
            ]
          },
          "metadata": {
            "tags": [],
            "needs_background": "light"
          }
        }
      ]
    },
    {
      "cell_type": "code",
      "metadata": {
        "id": "NS52finCMyC3",
        "colab_type": "code",
        "colab": {}
      },
      "source": [
        "def plot_potential(cbar=True, orientation='vertical', figsize=(4, 5.5)):\n",
        "    # 2D potential\n",
        "    xgrid = np.linspace(-3, 3, 100)\n",
        "    ygrid = np.linspace(-7, 7, 100)\n",
        "    Xgrid, Ygrid = np.meshgrid(xgrid, ygrid)\n",
        "    X = np.vstack([Xgrid.flatten(), Ygrid.flatten()]).T\n",
        "    E = double_well.energy(X)\n",
        "    E = E.reshape((100, 100))\n",
        "    E = np.minimum(E, 10.0)\n",
        "    plt.figure(figsize=figsize)\n",
        "    plt.contourf(Xgrid, Ygrid, E, 50, cmap='jet', vmax=4)\n",
        "    if cbar:\n",
        "        if orientation == 'horizontal':\n",
        "            cbar = plt.colorbar(orientation='horizontal', shrink=0.3, aspect=10, anchor=(0.5, 7.5), use_gridspec=False)#, anchor=(0, 0.5))\n",
        "            cbar.outline.set_linewidth(1)\n",
        "            cbar.outline.set_color('white')\n",
        "            cbar.outline.fill = False\n",
        "            plt.setp(plt.getp(cbar.ax.axes, 'xticklabels'), color='w')\n",
        "            cbar.ax.xaxis.set_tick_params(color='white')\n",
        "            #cbar.set_label('Energy / kT', labelpad=0, y=0.0, color='white')\n",
        "        else:\n",
        "            cbar = plt.colorbar()\n",
        "            cbar.set_label('Energy / kT', labelpad=-15, y=0.6)\n",
        "        cbar.set_ticks([-10, 0, 10])\n",
        "    plt.xticks([-2, 0, 2])\n",
        "    plt.yticks([-5, 0, 5])\n",
        "    plt.xlabel('$x_1$', labelpad=0)\n",
        "    plt.ylabel('$x_2$', labelpad=-10)"
      ],
      "execution_count": 0,
      "outputs": []
    },
    {
      "cell_type": "code",
      "metadata": {
        "id": "VYCbx_teMyDE",
        "colab_type": "code",
        "colab": {
          "base_uri": "https://localhost:8080/",
          "height": 278
        },
        "outputId": "2663f601-504a-4b9b-d5e7-100aa39376c7"
      },
      "source": [
        "plot_potential(orientation='horizontal')\n",
        "#plt.savefig(paper_dir + 'figs/double_well/potential2D_horizontal.pdf', bbox_inches='tight')"
      ],
      "execution_count": 38,
      "outputs": [
        {
          "output_type": "display_data",
          "data": {
            "image/png": "[encoded data removed]",
            "text/plain": [
              "<Figure size 288x396 with 2 Axes>"
            ]
          },
          "metadata": {
            "tags": []
          }
        }
      ]
    },
    {
      "cell_type": "code",
      "metadata": {
        "id": "NEy2sj4HMyDN",
        "colab_type": "code",
        "colab": {}
      },
      "source": [
        "# simulation data\n",
        "from deep_boltzmann.sampling import MetropolisGauss"
      ],
      "execution_count": 0,
      "outputs": []
    },
    {
      "cell_type": "code",
      "metadata": {
        "id": "6CT5c2FUMyDT",
        "colab_type": "code",
        "colab": {}
      },
      "source": [
        "nsteps = 10000\n",
        "x0_left = np.array([[-1.8, 0.0]])\n",
        "x0_right = np.array([[1.8, 0.0]])\n",
        "\n",
        "sampler = MetropolisGauss(double_well, x0_left, noise=0.1, stride=10)\n",
        "sampler.run(nsteps)\n",
        "traj_left = sampler.traj.copy()\n",
        "\n",
        "sampler.reset(x0_left)\n",
        "sampler.run(nsteps)\n",
        "traj_left_val = sampler.traj.copy()\n",
        "\n",
        "sampler.reset(x0_right)\n",
        "sampler.run(nsteps)\n",
        "traj_right = sampler.traj.copy()\n",
        "\n",
        "sampler.reset(x0_right)\n",
        "sampler.run(nsteps)\n",
        "traj_right_val = sampler.traj.copy()"
      ],
      "execution_count": 0,
      "outputs": []
    },
    {
      "cell_type": "code",
      "metadata": {
        "id": "a7udlUwzMyDc",
        "colab_type": "code",
        "colab": {
          "base_uri": "https://localhost:8080/",
          "height": 307
        },
        "outputId": "c1b18039-3beb-49be-d729-254b0423bc0b"
      },
      "source": [
        "plt.figure(figsize=(9, 4))\n",
        "ax1 = plt.subplot2grid((1, 3), (0, 0), colspan=2)\n",
        "ax2 = plt.subplot2grid((1, 3), (0, 2))\n",
        "ax1.plot(traj_left[:, 0], color='blue', alpha=0.7)\n",
        "ax1.plot(traj_right[:, 0], color='red', alpha=0.7)\n",
        "ax1.set_xlim(0, 1000)\n",
        "ax1.set_ylim(-2.5, 2.5)\n",
        "ax1.set_xlabel('Time / steps')\n",
        "ax1.set_ylabel('$x_1$ / a.u.')\n",
        "ax2.hist(traj_left[:, 0], 30, orientation='horizontal', histtype='stepfilled', color='blue', alpha=0.2);\n",
        "ax2.hist(traj_left[:, 0], 30, orientation='horizontal', histtype='step', color='blue', linewidth=2);\n",
        "ax2.hist(traj_right[:, 0], 30, orientation='horizontal', histtype='stepfilled', color='red', alpha=0.2);\n",
        "ax2.hist(traj_right[:, 0], 30, orientation='horizontal', histtype='step', color='red', linewidth=2);\n",
        "ax2.set_xticks([])\n",
        "ax2.set_yticks([])\n",
        "ax2.set_ylim(-2.5, 2.5)\n",
        "ax2.set_xlabel('Probability')\n",
        "#plt.savefig(paper_dir + 'figs/double_well/prior_trajs.pdf', bbox_inches='tight')"
      ],
      "execution_count": 43,
      "outputs": [
        {
          "output_type": "execute_result",
          "data": {
            "text/plain": [
              "Text(0.5, 0, 'Probability')"
            ]
          },
          "metadata": {
            "tags": []
          },
          "execution_count": 43
        },
        {
          "output_type": "display_data",
          "data": {
            "image/png": "[encoded data removed]",
            "text/plain": [
              "<Figure size 648x288 with 2 Axes>"
            ]
          },
          "metadata": {
            "tags": [],
            "needs_background": "light"
          }
        }
      ]
    },
    {
      "cell_type": "code",
      "metadata": {
        "id": "k7PxsweeMyDt",
        "colab_type": "code",
        "colab": {}
      },
      "source": [
        "x = np.vstack([traj_left, traj_right])\n",
        "xval = np.vstack([traj_left_val, traj_right_val])"
      ],
      "execution_count": 0,
      "outputs": []
    },
    {
      "cell_type": "code",
      "metadata": {
        "id": "8V8Kcm4SMyD1",
        "colab_type": "code",
        "colab": {}
      },
      "source": [
        "# prepare transition state\n",
        "x_ts = np.vstack([np.zeros(1000), (1.0/double_well.params['k']) * np.random.randn(1000)]).T"
      ],
      "execution_count": 0,
      "outputs": []
    },
    {
      "cell_type": "markdown",
      "metadata": {
        "id": "dA_xNcDrMyD_",
        "colab_type": "text"
      },
      "source": [
        "Estimate transition rate\n",
        "----"
      ]
    },
    {
      "cell_type": "code",
      "metadata": {
        "id": "ZiFd-VHJMyEA",
        "colab_type": "code",
        "colab": {
          "base_uri": "https://localhost:8080/",
          "height": 35
        },
        "outputId": "c7a4bfca-68e4-45ee-974c-82149296cec0"
      },
      "source": [
        "params"
      ],
      "execution_count": 46,
      "outputs": [
        {
          "output_type": "execute_result",
          "data": {
            "text/plain": [
              "{'a1': 1.0, 'a2': 6.0, 'a4': 1.0, 'dim': 1, 'k': 1.0}"
            ]
          },
          "metadata": {
            "tags": []
          },
          "execution_count": 46
        }
      ]
    },
    {
      "cell_type": "code",
      "metadata": {
        "id": "iSsiIlyGMyEH",
        "colab_type": "code",
        "colab": {
          "base_uri": "https://localhost:8080/",
          "height": 295
        },
        "outputId": "29ec3e55-df7e-4934-8f72-16b944b5a265"
      },
      "source": [
        "# change barrier but keep a/b\n",
        "params_flat = params.copy()\n",
        "params_flat['a2'] = 1.5\n",
        "params_flat['a4'] = 0.25\n",
        "double_well_flat = DoubleWell(params=params_flat)\n",
        "double_well_flat.plot_dimer_energy();\n",
        "#double_well_flat.plot_dimer_energy();"
      ],
      "execution_count": 47,
      "outputs": [
        {
          "output_type": "display_data",
          "data": {
            "image/png": "[encoded data removed]",
            "text/plain": [
              "<Figure size 432x288 with 1 Axes>"
            ]
          },
          "metadata": {
            "tags": [],
            "needs_background": "light"
          }
        }
      ]
    },
    {
      "cell_type": "code",
      "metadata": {
        "id": "R8yHOoqKMyEP",
        "colab_type": "code",
        "colab": {}
      },
      "source": [
        "sampler = MetropolisGauss(double_well_flat, x0_left, noise=0.1, stride=100)\n",
        "nstep = 1000000\n",
        "sampler.run(nstep)"
      ],
      "execution_count": 0,
      "outputs": []
    },
    {
      "cell_type": "code",
      "metadata": {
        "id": "oIYrCS03MyEa",
        "colab_type": "code",
        "colab": {}
      },
      "source": [
        "barrier_double_well = double_well.energy(np.array([[0, 0]])) - double_well.energy(np.array([[-2, 0]]))\n",
        "barrier_double_well_flat = double_well_flat.energy(np.array([[0, 0]])) - double_well_flat.energy(np.array([[-2, 0]]))"
      ],
      "execution_count": 0,
      "outputs": []
    },
    {
      "cell_type": "code",
      "metadata": {
        "id": "xWze5q7oMyEj",
        "colab_type": "code",
        "colab": {
          "base_uri": "https://localhost:8080/",
          "height": 35
        },
        "outputId": "44992a28-a5ec-4839-9da2-3738a036428c"
      },
      "source": [
        "from deep_boltzmann.util import count_transitions\n",
        "Ntrans_low_barrier = count_transitions(sampler.traj[:, 0], -1, 1)\n",
        "rate_low_barrier = float(Ntrans_low_barrier) / float(nstep)\n",
        "dE = barrier_double_well - barrier_double_well_flat\n",
        "rate_high_barrier = rate_low_barrier * np.exp(-dE)\n",
        "print(1.0/rate_high_barrier)\n",
        "#plt.plot(sampler.traj[:, 0])"
      ],
      "execution_count": 50,
      "outputs": [
        {
          "output_type": "stream",
          "text": [
            "[4691032.48247366]\n"
          ],
          "name": "stdout"
        }
      ]
    },
    {
      "cell_type": "markdown",
      "metadata": {
        "id": "XN5Sh9hKMyEx",
        "colab_type": "text"
      },
      "source": [
        "Training\n",
        "-------"
      ]
    },
    {
      "cell_type": "code",
      "metadata": {
        "id": "Hi_S4X1YMyEy",
        "colab_type": "code",
        "colab": {}
      },
      "source": [
        "epochsZ = 200\n",
        "epochsE = 500\n",
        "batchsize_ML = 128\n",
        "batchsize_KL = 1000\n",
        "temperature = 1.0\n",
        "explore = 1.0"
      ],
      "execution_count": 0,
      "outputs": []
    },
    {
      "cell_type": "markdown",
      "metadata": {
        "id": "aGoeGTcdMyE5",
        "colab_type": "text"
      },
      "source": [
        "Networks\n",
        "----"
      ]
    },
    {
      "cell_type": "code",
      "metadata": {
        "scrolled": true,
        "id": "H4bdzn7bMyE7",
        "colab_type": "code",
        "colab": {
          "base_uri": "https://localhost:8080/",
          "height": 396
        },
        "outputId": "4070ebc5-ad01-41f4-d3b1-84665f7d1d53"
      },
      "source": [
        "network_NICER_KLML = invnet(double_well.dim, 'NNNNS', double_well, nl_layers=3, nl_hidden=100, \n",
        "                            nl_activation='relu', nl_activation_scale='tanh')"
      ],
      "execution_count": 52,
      "outputs": [
        {
          "output_type": "stream",
          "text": [
            "<NNNN>S\n",
            "< 1 0 0\n",
            "N 1 0 0\n"
          ],
          "name": "stdout"
        },
        {
          "output_type": "error",
          "ename": "RuntimeError",
          "evalue": "ignored",
          "traceback": [
            "\u001b[0;31m---------------------------------------------------------------------------\u001b[0m",
            "\u001b[0;31mRuntimeError\u001b[0m                              Traceback (most recent call last)",
            "\u001b[0;32m<ipython-input-52-6141415998ec>\u001b[0m in \u001b[0;36m<module>\u001b[0;34m()\u001b[0m\n\u001b[1;32m      1\u001b[0m network_NICER_KLML = invnet(double_well.dim, 'NNNNS', double_well, nl_layers=3, nl_hidden=100, \n\u001b[0;32m----> 2\u001b[0;31m                             nl_activation='relu', nl_activation_scale='tanh')\n\u001b[0m",
            "\u001b[0;32m/content/machine_learning_muca/2019_noe_deep_boltzmann_tfv2/deep_boltzmann/networks/invertible.py\u001b[0m in \u001b[0;36minvnet\u001b[0;34m(dim, layer_types, energy_model, channels, nl_layers, nl_hidden, nl_layers_scale, nl_hidden_scale, nl_activation, nl_activation_scale, scale, prior, permute_atomwise, permute_order, whiten, whiten_keepdims, ic, ic_cart, ic_norm, ic_cart_norm, torsion_cut, ic_jacobian_regularizer, rg_splitfrac, **layer_args)\u001b[0m\n\u001b[1;32m    867\u001b[0m         \u001b[0;32melif\u001b[0m \u001b[0mltype\u001b[0m \u001b[0;34m==\u001b[0m \u001b[0;34m'N'\u001b[0m\u001b[0;34m:\u001b[0m\u001b[0;34m\u001b[0m\u001b[0;34m\u001b[0m\u001b[0m\n\u001b[1;32m    868\u001b[0m             \u001b[0;32mif\u001b[0m \u001b[0mdim_R\u001b[0m \u001b[0;34m==\u001b[0m \u001b[0;36m0\u001b[0m\u001b[0;34m:\u001b[0m\u001b[0;34m\u001b[0m\u001b[0;34m\u001b[0m\u001b[0m\n\u001b[0;32m--> 869\u001b[0;31m                 \u001b[0;32mraise\u001b[0m \u001b[0mRuntimeError\u001b[0m\u001b[0;34m(\u001b[0m\u001b[0;34m'Not split. Cannot invoke NICE layer.'\u001b[0m\u001b[0;34m)\u001b[0m\u001b[0;34m\u001b[0m\u001b[0;34m\u001b[0m\u001b[0m\n\u001b[0m\u001b[1;32m    870\u001b[0m             T1 = nonlinear_transform(dim_R, nlayers=nl_layers, nhidden=nl_hidden,\n\u001b[1;32m    871\u001b[0m                                      activation=nl_activation, **layer_args)\n",
            "\u001b[0;31mRuntimeError\u001b[0m: Not split. Cannot invoke NICE layer."
          ]
        }
      ]
    },
    {
      "cell_type": "code",
      "metadata": {
        "id": "0bZDKj5MMyFF",
        "colab_type": "code",
        "colab": {}
      },
      "source": [
        "hist_NICER_KLML1 = network_NICER_KLML.train_ML(x, xval=xval, epochs=epochsZ, batch_size=batchsize_ML, std=1.0, \n",
        "                                               verbose=0, return_test_energies=True)\n",
        "hist_NICER_KLML2 = network_NICER_KLML.train_flexible(x, xval=xval, lr=0.001, epochs=epochsE, batch_size=batchsize_KL, \n",
        "                                                     std=1.0,\n",
        "                                                     weight_ML=1.0, weight_KL=1.0, weight_MC=0.0, weight_W2=0.0,\n",
        "                                                     weight_RCEnt=0.0, rc_func=getx, rc_min=-2.5, rc_max=2.5,\n",
        "                                                     temperature=temperature, explore=explore, verbose=0,\n",
        "                                                     return_test_energies=True)"
      ],
      "execution_count": 0,
      "outputs": []
    },
    {
      "cell_type": "code",
      "metadata": {
        "id": "RST2Tfe_MyFL",
        "colab_type": "code",
        "colab": {}
      },
      "source": [
        "plot_convergence(hist_NICER_KLML1, hist_NICER_KLML2, 0, 2)"
      ],
      "execution_count": 0,
      "outputs": []
    },
    {
      "cell_type": "code",
      "metadata": {
        "id": "v9kjEFzIMyFS",
        "colab_type": "code",
        "colab": {}
      },
      "source": [
        "fig, axes = plot_network(network_NICER_KLML, weight_cutoff=1e-2);\n",
        "#fig.savefig(paper_dir + 'figs/double_well/network_NICER_KLML.pdf', bbox_inches='tight')"
      ],
      "execution_count": 0,
      "outputs": []
    },
    {
      "cell_type": "code",
      "metadata": {
        "scrolled": true,
        "id": "PHhvymjhMyFa",
        "colab_type": "code",
        "colab": {}
      },
      "source": [
        "network_RNVP_KLML = invnet(double_well.dim, 'RRRR', double_well, nl_layers=3, nl_hidden=100, \n",
        "                           nl_activation='relu', nl_activation_scale='tanh')"
      ],
      "execution_count": 0,
      "outputs": []
    },
    {
      "cell_type": "code",
      "metadata": {
        "id": "xW39ljR9MyFm",
        "colab_type": "code",
        "colab": {}
      },
      "source": [
        "hist_RNVP_KLML1 = network_RNVP_KLML.train_ML(x, xval=xval, epochs=epochsZ, batch_size=batchsize_ML, std=1.0, verbose=0,\n",
        "                                             return_test_energies=True)\n",
        "hist_RNVP_KLML2 = network_RNVP_KLML.train_flexible(x, xval=xval, lr=0.001, epochs=epochsE, batch_size=batchsize_KL, \n",
        "                                                   std=1.0,\n",
        "                                                   weight_ML=1.0, weight_KL=1.0, weight_MC=0.0, weight_W2=0.0,\n",
        "                                                   weight_RCEnt=0.0, rc_func=getx, rc_min=-2.5, rc_max=2.5,\n",
        "                                                   temperature=temperature, explore=explore, verbose=0,\n",
        "                                                   return_test_energies=True)"
      ],
      "execution_count": 0,
      "outputs": []
    },
    {
      "cell_type": "code",
      "metadata": {
        "id": "ImLQBbd2MyFs",
        "colab_type": "code",
        "colab": {}
      },
      "source": [
        "def energy_cut_z(ndim, nstd=3):\n",
        "    z = np.random.randn(10000, ndim)\n",
        "    zener = 0.5 * np.sum(z**2, axis=1)\n",
        "    #return zener\n",
        "    std = np.sqrt(np.mean((zener - zener.mean())**2))\n",
        "    return zener.mean() + nstd*std"
      ],
      "execution_count": 0,
      "outputs": []
    },
    {
      "cell_type": "code",
      "metadata": {
        "id": "nevp5q5eMyF1",
        "colab_type": "code",
        "colab": {}
      },
      "source": [
        "zcut = energy_cut_z(double_well.dim, nstd=3)\n",
        "plot_convergence(hist_RNVP_KLML1, hist_RNVP_KLML2, 0, zcut)\n",
        "#plt.savefig(paper_dir + 'figs/double_well/training_convergence_KLML.pdf', bbox_inches='tight', transparent=True)"
      ],
      "execution_count": 0,
      "outputs": []
    },
    {
      "cell_type": "code",
      "metadata": {
        "id": "TSdhSfpGMyF6",
        "colab_type": "code",
        "colab": {}
      },
      "source": [
        "fig, axes = plot_network(network_RNVP_KLML, weight_cutoff=1e-2);\n",
        "#fig.savefig(paper_dir + 'figs/double_well/network_RNVP_KLML.pdf', bbox_inches='tight')"
      ],
      "execution_count": 0,
      "outputs": []
    },
    {
      "cell_type": "code",
      "metadata": {
        "scrolled": true,
        "id": "bsNGIpA0MyGA",
        "colab_type": "code",
        "colab": {}
      },
      "source": [
        "network_NICER_KLRC = invnet(double_well.dim, 'NNNNS', double_well, nl_layers=3, nl_hidden=100, \n",
        "                            nl_activation='relu', nl_activation_scale='tanh')"
      ],
      "execution_count": 0,
      "outputs": []
    },
    {
      "cell_type": "code",
      "metadata": {
        "id": "DWdLyLGjMyGF",
        "colab_type": "code",
        "colab": {}
      },
      "source": [
        "hist_NICER_KLRC1 = network_NICER_KLRC.train_ML(x, xval=xval, epochs=epochsZ, batch_size=128, std=1.0, verbose=0, \n",
        "                                               return_test_energies=True)"
      ],
      "execution_count": 0,
      "outputs": []
    },
    {
      "cell_type": "code",
      "metadata": {
        "id": "GMqUP6R9MyGK",
        "colab_type": "code",
        "colab": {}
      },
      "source": [
        "hist_NICER_KLRC2 = network_NICER_KLRC.train_flexible(x, xval=xval, lr=0.001, epochs=epochsE, batch_size=2048, std=1.0,\n",
        "                                                     weight_ML=0.01, weight_KL=1.0, weight_MC=0.0, weight_W2=0.0,\n",
        "                                                     weight_RCEnt=1.0, rc_func=getx, rc_min=-2.5, rc_max=2.5,\n",
        "                                                     temperature=temperature, explore=explore, verbose=0,\n",
        "                                                     return_test_energies=True)"
      ],
      "execution_count": 0,
      "outputs": []
    },
    {
      "cell_type": "code",
      "metadata": {
        "id": "L2YrdxsCMyGQ",
        "colab_type": "code",
        "colab": {}
      },
      "source": [
        "plot_convergence(hist_NICER_KLRC1, hist_NICER_KLRC2, 0, 2)"
      ],
      "execution_count": 0,
      "outputs": []
    },
    {
      "cell_type": "code",
      "metadata": {
        "id": "a-SMUGRpMyGX",
        "colab_type": "code",
        "colab": {}
      },
      "source": [
        "fig, axes = plot_network(network_NICER_KLRC, weight_cutoff=1e-2);\n",
        "#fig.savefig(paper_dir + 'figs/double_well/network_NICER_KLRC.pdf', bbox_inches='tight')"
      ],
      "execution_count": 0,
      "outputs": []
    },
    {
      "cell_type": "code",
      "metadata": {
        "scrolled": true,
        "id": "93DegRagMyGc",
        "colab_type": "code",
        "colab": {}
      },
      "source": [
        "network_RNVP_KLRC = invnet(double_well.dim, 'RRRR', double_well, nl_layers=3, nl_hidden=100, \n",
        "                            nl_activation='relu', nl_activation_scale='tanh')"
      ],
      "execution_count": 0,
      "outputs": []
    },
    {
      "cell_type": "code",
      "metadata": {
        "id": "ec8us0QJMyGo",
        "colab_type": "code",
        "colab": {}
      },
      "source": [
        "hist_RNVP_KLRC1 = network_RNVP_KLRC.train_ML(x, xval=xval, epochs=epochsZ, batch_size=batchsize_ML, std=1.0, verbose=0,\n",
        "                                             return_test_energies=True)\n",
        "hist_RNVP_KLRC2 = network_RNVP_KLRC.train_flexible(x, xval=xval, lr=0.001, epochs=epochsE, batch_size=batchsize_KL, \n",
        "                                                   std=1.0,\n",
        "                                                   weight_ML=0.01, weight_KL=1.0, weight_MC=0.0, weight_W2=0.0,\n",
        "                                                   weight_RCEnt=1.0, rc_func=getx, rc_min=-2.5, rc_max=2.5,\n",
        "                                                   temperature=temperature, explore=explore, verbose=0,\n",
        "                                                   return_test_energies=True)"
      ],
      "execution_count": 0,
      "outputs": []
    },
    {
      "cell_type": "code",
      "metadata": {
        "id": "pCEYb9TbMyG0",
        "colab_type": "code",
        "colab": {}
      },
      "source": [
        "zcut = energy_cut_z(double_well.dim, nstd=3)\n",
        "plot_convergence(hist_RNVP_KLRC1, hist_RNVP_KLRC2, 0, zcut)\n",
        "#plt.savefig(paper_dir + 'figs/double_well/training_convergence_KLRC.pdf', bbox_inches='tight', transparent=True)"
      ],
      "execution_count": 0,
      "outputs": []
    },
    {
      "cell_type": "code",
      "metadata": {
        "id": "bi9xnqdaMyG5",
        "colab_type": "code",
        "colab": {}
      },
      "source": [
        "fig, axes = plot_network(network_NICER_KLRC, weight_cutoff=1e-2);\n",
        "#fig.savefig(paper_dir + 'figs/double_well/network_RNVP_KLRC.pdf', bbox_inches='tight')"
      ],
      "execution_count": 0,
      "outputs": []
    },
    {
      "cell_type": "markdown",
      "metadata": {
        "id": "XSD4jaSVMyG_",
        "colab_type": "text"
      },
      "source": [
        "**Save Figures**"
      ]
    },
    {
      "cell_type": "code",
      "metadata": {
        "id": "4xuFpI0lMyHA",
        "colab_type": "code",
        "colab": {}
      },
      "source": [
        "plot_potential(cbar=True, orientation='horizontal')\n",
        "#plt.savefig(paper_dir + 'figs/double_well/potential2D_horizontal.pdf', bbox_inches='tight')\n",
        "#plot_potential(cbar=True)\n",
        "plt.plot(traj_left[::5, 0], traj_left[::5, 1], linewidth=0, marker='.', markersize=4, color='teal')\n",
        "plt.plot(x_ts[:, 0], x_ts[:, 1], linewidth=0, marker='.', markersize=3, color='yellow')\n",
        "plt.plot(traj_right[::5, 0], traj_right[::5, 1], linewidth=0, marker='.', markersize=4, color='red')\n",
        "plt.xlabel('$x_1$')\n",
        "#plt.xlim(-3, 3)\n",
        "plt.ylabel('$x_2$')\n",
        "#plt.ylim(-4, 4)\n",
        "plt.yticks([-4, -2, 0, 2, 4]);\n",
        "#plt.savefig(paper_dir + 'figs/double_well/xdist.pdf', bbox_inches='tight', transparent=True)"
      ],
      "execution_count": 0,
      "outputs": []
    },
    {
      "cell_type": "code",
      "metadata": {
        "id": "ApTe7eG3MyHI",
        "colab_type": "code",
        "colab": {}
      },
      "source": [
        "z_left = network_NICER_KLRC.transform_xz(traj_left)\n",
        "z_ts = network_NICER_KLRC.transform_xz(x_ts)\n",
        "z_right = network_NICER_KLRC.transform_xz(traj_right)\n",
        "plt.figure(figsize=(4, 4))\n",
        "plt.plot(z_left[:, 0], z_left[:, 1], linewidth=0, marker='.', markersize=3, color='blue')\n",
        "plt.plot(z_ts[:, 0], z_ts[:, 1], linewidth=0, marker='.', markersize=3, color='orange')\n",
        "plt.plot(z_right[:, 0], z_right[:, 1], linewidth=0, marker='.', markersize=3, color='red')\n",
        "circle = plt.Circle((0, 0), radius=1.0, color='black', alpha=0.4, fill=True)\n",
        "plt.gca().add_artist(circle)\n",
        "circle = plt.Circle((0, 0), radius=2.0, color='black', alpha=0.25, fill=True)\n",
        "plt.gca().add_artist(circle)\n",
        "circle = plt.Circle((0, 0), radius=3.0, color='black', alpha=0.1, fill=True)\n",
        "plt.gca().add_artist(circle)\n",
        "plt.xlabel('$z_1$')\n",
        "plt.xlim(-4, 4)\n",
        "plt.ylabel('$z_2$')\n",
        "plt.ylim(-4, 4)\n",
        "plt.yticks([-4, -2, 0, 2, 4]);\n",
        "#plt.savefig(paper_dir + 'figs/double_well/zdist_NICER.pdf', bbox_inches='tight')"
      ],
      "execution_count": 0,
      "outputs": []
    },
    {
      "cell_type": "code",
      "metadata": {
        "id": "yfxuPJIpMyHR",
        "colab_type": "code",
        "colab": {}
      },
      "source": [
        "plot_transformation_field_2d(network_NICER_KLRC.Txz, [-3, 3, -3, 3], ngrid=20)\n",
        "plt.xlabel('z1');\n",
        "plt.ylabel('z2');"
      ],
      "execution_count": 0,
      "outputs": []
    },
    {
      "cell_type": "code",
      "metadata": {
        "id": "-_jQUa8uMyHW",
        "colab_type": "code",
        "colab": {}
      },
      "source": [
        "X1, Y1 = test_sample(network_NICER_KLML, temperature=1.0, plot=False);\n",
        "X2, Y2 = test_sample(network_NICER_KLRC, temperature=1.0, plot=False);"
      ],
      "execution_count": 0,
      "outputs": []
    },
    {
      "cell_type": "code",
      "metadata": {
        "id": "i7uYHPh-MyHb",
        "colab_type": "code",
        "colab": {}
      },
      "source": [
        "nsample=100000"
      ],
      "execution_count": 0,
      "outputs": []
    },
    {
      "cell_type": "code",
      "metadata": {
        "id": "rnUaqRyaMyHg",
        "colab_type": "code",
        "colab": {}
      },
      "source": [
        "_, sample_x1, _, energy_x1, _ = network_NICER_KLML.sample(temperature=temperature, nsample=nsample)\n",
        "_, sample_x2, _, energy_x2, _ = network_NICER_KLRC.sample(temperature=temperature, nsample=nsample)"
      ],
      "execution_count": 0,
      "outputs": []
    },
    {
      "cell_type": "code",
      "metadata": {
        "id": "EO7VF6qwMyHq",
        "colab_type": "code",
        "colab": {}
      },
      "source": [
        "plt.figure(figsize=(4,2))\n",
        "nsample = 100000\n",
        "plt.hist(sample_x1[:, 0], 1000, histtype='step', color='#00BB00', linewidth=2, label='KL+ML');\n",
        "plt.hist(sample_x2[:, 0], 1000, histtype='step', color='#FF6600', linewidth=2, label='KL+RC');\n",
        "plt.xlim(-3, 3)\n",
        "plt.yticks([]);\n",
        "plt.xlabel('$x_1$')\n",
        "plt.ylabel('Frequency')\n",
        "plt.xticks([]);\n",
        "plt.legend(ncol=1, loc='upper right', frameon=False)\n",
        "#plt.savefig(paper_dir + 'figs/double_well/hist_samplex.pdf', bbox_inches='tight', transparent=True)"
      ],
      "execution_count": 0,
      "outputs": []
    },
    {
      "cell_type": "code",
      "metadata": {
        "id": "4Zka-EL0MyH2",
        "colab_type": "code",
        "colab": {}
      },
      "source": [
        "nsteps = 100000\n",
        "sampler.reset(x0_left)\n",
        "sampler.run(nsteps)\n",
        "traj_left_ref = sampler.traj.copy()\n",
        "sampler.reset(x0_right)\n",
        "sampler.run(nsteps)\n",
        "traj_right_ref = sampler.traj.copy()\n",
        "x_ref = np.vstack([traj_left_ref, traj_right_ref])"
      ],
      "execution_count": 0,
      "outputs": []
    },
    {
      "cell_type": "code",
      "metadata": {
        "id": "Wju1tLGwMyH6",
        "colab_type": "code",
        "colab": {}
      },
      "source": [
        "plt.figure(figsize=(4, 2))\n",
        "nsample = 100000\n",
        "energy_md = double_well.energy(x_ref)\n",
        "plt.hist(energy_md, 100, density=True, color='grey', linewidth=1, label='MD');\n",
        "plt.hist(energy_md, 100, density=True, histtype='step', color='#555555', linewidth=2);\n",
        "plt.hist(energy_x1, 1000, density=True, histtype='step', color='#00BB00', linewidth=2, label='KL+ML');\n",
        "plt.hist(energy_x2, 1000, density=True, histtype='step', color='#FF6600', linewidth=2, label='KL+RC');\n",
        "plt.xlim(-12, 5)\n",
        "plt.yticks([]);\n",
        "plt.xlabel('Energy / kT')\n",
        "plt.ylabel('Frequency')\n",
        "plt.legend(ncol=1, loc=9, fontsize=12, frameon=False)\n",
        "#plt.savefig(paper_dir + 'figs/double_well/hist_sample_energy.pdf', bbox_inches='tight', transparent=True)"
      ],
      "execution_count": 0,
      "outputs": []
    },
    {
      "cell_type": "code",
      "metadata": {
        "id": "fncMgru7MyIA",
        "colab_type": "code",
        "colab": {}
      },
      "source": [
        "plt.figure(figsize=(4,4))\n",
        "Ex, E = double_well.plot_dimer_energy(temperature=1.0)\n",
        "Y1 = Y1 - Y1.min() + E.min()\n",
        "Y2 = Y2 - Y2.min() + E.min()\n",
        "plt.plot(X1, Y1, color='#00BB00', linewidth=2, label='KL+ML')\n",
        "plt.plot(X2, Y2, color='#FF6600', linewidth=2, label='KL+RC')\n",
        "plt.xlim(-3, 3)\n",
        "plt.ylim(-12, 5.5)\n",
        "plt.yticks([-12, -10, -8, -6, -4, -2, 0, 2, 4]);\n",
        "plt.legend(ncol=1, loc=9, fontsize=12, frameon=False)\n",
        "#plt.savefig(paper_dir + 'figs/double_well/energy_px.pdf', bbox_inches='tight')"
      ],
      "execution_count": 0,
      "outputs": []
    },
    {
      "cell_type": "code",
      "metadata": {
        "id": "geBCmAflMyII",
        "colab_type": "code",
        "colab": {}
      },
      "source": [
        "RX1, RY1, DR1 = test_sample_rew(network_NICER_KLML, temperature=1.0, plot=False);\n",
        "RX2, RY2, DR2 = test_sample_rew(network_NICER_KLRC, temperature=1.0, plot=False);"
      ],
      "execution_count": 0,
      "outputs": []
    },
    {
      "cell_type": "code",
      "metadata": {
        "id": "sTxXFZczMyIV",
        "colab_type": "code",
        "colab": {}
      },
      "source": [
        "Ex, E = double_well.plot_dimer_energy(temperature=1.0)"
      ],
      "execution_count": 0,
      "outputs": []
    },
    {
      "cell_type": "code",
      "metadata": {
        "id": "df3YHeKkMyIZ",
        "colab_type": "code",
        "colab": {}
      },
      "source": [
        "#test_sample_rew(network_NICER_KLRC, temperature=1.0);\n",
        "plt.figure(figsize=(4, 5))\n",
        "plt.plot(Ex, E, linewidth=3, color='black')\n",
        "RY1 = RY1 - RY1[np.isfinite(RY1)].min() + E.min()\n",
        "RY1[RY1 > -4] = np.nan\n",
        "RY2 = RY2 - RY2[np.isfinite(RY2)].min() + E.min()\n",
        "plt.errorbar(RX2, RY2, DR2, color='#FF6600', linewidth=2, label='ML+KL+RC')\n",
        "plt.errorbar(RX1, RY1, DR1, color='#00BB00', linewidth=2, label='ML+KL')\n",
        "plt.xlim(-3, 3)\n",
        "plt.ylim(-12, 4)\n",
        "#plt.yticks([-12, -10, -8, -6, -4, -2, 0, 2, 4]);\n",
        "plt.yticks([-12, -8, -4, 0, 4]);\n",
        "plt.xticks([]);\n",
        "plt.xlabel('$x_1$')\n",
        "plt.ylabel('Free energy / kT', labelpad=-10)\n",
        "#plt.savefig(paper_dir + 'figs/double_well/free_energy_rew.pdf', bbox_inches='tight', transparent=True)"
      ],
      "execution_count": 0,
      "outputs": []
    },
    {
      "cell_type": "code",
      "metadata": {
        "id": "WqqLdFVyMyIe",
        "colab_type": "code",
        "colab": {}
      },
      "source": [
        "z_left = network_RNVP_KLRC.transform_xz(traj_left)\n",
        "z_ts = network_RNVP_KLRC.transform_xz(x_ts)\n",
        "z_right = network_RNVP_KLRC.transform_xz(traj_right)\n",
        "plt.figure(figsize=(4, 4))\n",
        "plt.plot(z_left[:, 0], z_left[:, 1], linewidth=0, marker='.', markersize=3, color='blue')\n",
        "plt.plot(z_ts[:, 0], z_ts[:, 1], linewidth=0, marker='.', markersize=3, color='orange')\n",
        "plt.plot(z_right[:, 0], z_right[:, 1], linewidth=0, marker='.', markersize=3, color='red')\n",
        "circle = plt.Circle((0, 0), radius=1.0, color='black', alpha=0.4, fill=True)\n",
        "plt.gca().add_artist(circle)\n",
        "circle = plt.Circle((0, 0), radius=2.0, color='black', alpha=0.25, fill=True)\n",
        "plt.gca().add_artist(circle)\n",
        "circle = plt.Circle((0, 0), radius=3.0, color='black', alpha=0.1, fill=True)\n",
        "plt.gca().add_artist(circle)\n",
        "plt.xlabel('$z_1$')\n",
        "plt.xlim(-4, 4)\n",
        "plt.ylabel('$z_2$')\n",
        "plt.ylim(-4, 4)\n",
        "plt.yticks([-4, -2, 0, 2, 4]);\n",
        "#plt.savefig(paper_dir + 'figs/double_well/zdist_realNVP.pdf', bbox_inches='tight', transparent=True)"
      ],
      "execution_count": 0,
      "outputs": []
    },
    {
      "cell_type": "code",
      "metadata": {
        "id": "LDmCwJWkMyIp",
        "colab_type": "code",
        "colab": {}
      },
      "source": [
        "def latent_interpolation(bg, x1, x2, nstep=1000):\n",
        "    lambdas = np.array([np.linspace(0, 1, num=nstep)]).T\n",
        "    x1 = np.array([x1])\n",
        "    x2 = np.array([x2])\n",
        "    z1 = bg.transform_xz(x1)\n",
        "    z2 = bg.transform_xz(x2)\n",
        "    zpath = z1 + lambdas*(z2-z1)\n",
        "    xpath = bg.transform_zx(zpath)\n",
        "    return xpath"
      ],
      "execution_count": 0,
      "outputs": []
    },
    {
      "cell_type": "code",
      "metadata": {
        "id": "viwTwJ75MyIt",
        "colab_type": "code",
        "colab": {}
      },
      "source": [
        "xpaths = []\n",
        "for i in range(10):\n",
        "    x1 = traj_left[np.random.randint(1000)] \n",
        "    x2 = traj_right[np.random.randint(1000)]\n",
        "    xpaths.append(latent_interpolation(network_RNVP_KLRC, x1, x2, nstep=1000))"
      ],
      "execution_count": 0,
      "outputs": []
    },
    {
      "cell_type": "code",
      "metadata": {
        "id": "vW1VSnI7MyIx",
        "colab_type": "code",
        "colab": {}
      },
      "source": [
        "plot_potential(cbar=False, figsize=(5, 5))\n",
        "plt.xticks([])\n",
        "plt.xlabel('')\n",
        "plt.yticks([])\n",
        "plt.ylabel('')\n",
        "for xpath in xpaths:\n",
        "    plt.plot(xpath[:, 0], xpath[:, 1], linewidth=2, color='white')\n",
        "#plt.savefig(paper_dir + 'figs/double_well/paths.pdf', bbox_inches='tight', transparent=True)"
      ],
      "execution_count": 0,
      "outputs": []
    },
    {
      "cell_type": "code",
      "metadata": {
        "id": "8OFDU0gDMyI3",
        "colab_type": "code",
        "colab": {}
      },
      "source": [
        ""
      ],
      "execution_count": 0,
      "outputs": []
    }
  ]
}