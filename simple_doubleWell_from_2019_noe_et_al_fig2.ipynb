{
  "nbformat": 4,
  "nbformat_minor": 0,
  "metadata": {
    "anaconda-cloud": {},
    "kernelspec": {
      "display_name": "Python 3",
      "language": "python",
      "name": "python3"
    },
    "language_info": {
      "codemirror_mode": {
        "name": "ipython",
        "version": 3
      },
      "file_extension": ".py",
      "mimetype": "text/x-python",
      "name": "python",
      "nbconvert_exporter": "python",
      "pygments_lexer": "ipython3",
      "version": "3.7.4"
    },
    "colab": {
      "name": "simple_doubleWell_from_2019_noe_et_al_fig2.ipynb",
      "provenance": [],
      "collapsed_sections": [],
      "toc_visible": true,
      "include_colab_link": true
    }
  },
  "cells": [
    {
      "cell_type": "markdown",
      "metadata": {
        "id": "view-in-github",
        "colab_type": "text"
      },
      "source": [
        "<a href=\"https://colab.research.google.com/github/zierenberg/machine_learning_muca/blob/master/simple_doubleWell_from_2019_noe_et_al_fig2.ipynb\" target=\"_parent\"><img src=\"https://colab.research.google.com/assets/colab-badge.svg\" alt=\"Open In Colab\"/></a>"
      ]
    },
    {
      "cell_type": "code",
      "metadata": {
        "id": "8bjcYIjqM5NJ",
        "colab_type": "code",
        "colab": {
          "base_uri": "https://localhost:8080/",
          "height": 127
        },
        "outputId": "859223da-400a-4d3e-c2ac-c78eba23ea6a"
      },
      "source": [
        "!git clone https://github.com/zierenberg/machine_learning_muca.git"
      ],
      "execution_count": 1,
      "outputs": [
        {
          "output_type": "stream",
          "text": [
            "Cloning into 'machine_learning_muca'...\n",
            "remote: Enumerating objects: 72, done.\u001b[K\n",
            "remote: Counting objects: 100% (72/72), done.\u001b[K\n",
            "remote: Compressing objects: 100% (70/70), done.\u001b[K\n",
            "remote: Total 72 (delta 14), reused 40 (delta 1), pack-reused 0\u001b[K\n",
            "Unpacking objects: 100% (72/72), done.\n"
          ],
          "name": "stdout"
        }
      ]
    },
    {
      "cell_type": "code",
      "metadata": {
        "id": "7WZMDn37Mx_W",
        "colab_type": "code",
        "colab": {
          "base_uri": "https://localhost:8080/",
          "height": 35
        },
        "outputId": "6d5f68d6-655f-4d47-b2fa-69d36de84f35"
      },
      "source": [
        "import numpy as np\n",
        "import matplotlib.pyplot as plt\n",
        "from matplotlib import rcParams\n",
        "import keras\n",
        "import tensorflow as tf"
      ],
      "execution_count": 2,
      "outputs": [
        {
          "output_type": "stream",
          "text": [
            "Using TensorFlow backend.\n"
          ],
          "name": "stderr"
        }
      ]
    },
    {
      "cell_type": "code",
      "metadata": {
        "id": "54fkRKE4Mx_y",
        "colab_type": "code",
        "colab": {}
      },
      "source": [
        "from IPython.display import SVG\n",
        "from keras.utils.vis_utils import model_to_dot"
      ],
      "execution_count": 3,
      "outputs": []
    },
    {
      "cell_type": "code",
      "metadata": {
        "id": "RzPSpNmnMyAX",
        "colab_type": "code",
        "colab": {}
      },
      "source": [
        "# Switch AUTORELOAD ON. Disable this when in production mode!\n",
        "%load_ext autoreload\n",
        "%autoreload 2"
      ],
      "execution_count": 4,
      "outputs": []
    },
    {
      "cell_type": "code",
      "metadata": {
        "id": "hkra9uLqMyAo",
        "colab_type": "code",
        "colab": {}
      },
      "source": [
        "import sys\n",
        "sys.path.append(\"machine_learning_muca/2019_noe_deep_boltzmann_tfv2\")\n",
        "\n",
        "from deep_boltzmann.models import DoubleWell\n",
        "from deep_boltzmann.networks.invertible import create_NICERNet, create_RealNVPNet, invnet\n",
        "#from deep_boltzmann.sampling import GaussianPriorMCMC\n",
        "#from deep_boltzmann.networks.plot import test_xz_projection\n",
        "#from deep_boltzmann.util import count_transitions\n",
        "#from deep_boltzmann.sampling.analysis import free_energy_bootstrap, mean_finite, std_finite"
      ],
      "execution_count": 11,
      "outputs": []
    },
    {
      "cell_type": "code",
      "metadata": {
        "id": "rM6AzM68MyA2",
        "colab_type": "code",
        "colab": {}
      },
      "source": [
        "def test_sample(network, temperature=1.0, nsample=100000, plot=True):\n",
        "    if nsample <= 100000:\n",
        "        sample_z, sample_x, energy_z, energy_x, logw = network.sample(temperature=temperature, nsample=nsample)\n",
        "    else:\n",
        "        sample_x = []\n",
        "        for i in range(int(nsample/100000)):\n",
        "            _, sample_x_, _, _, _ = network.sample(temperature=temperature, nsample=nsample)\n",
        "            sample_x.append(sample_x_)\n",
        "        sample_x = np.vstack(sample_x)\n",
        "        \n",
        "    # xgen = network.Tzx.predict(np.sqrt(temperature) * np.random.randn(100000, 2))\n",
        "    params = DoubleWell.params_default.copy()\n",
        "    params['dim'] = 2\n",
        "    double_well = DoubleWell(params=params)\n",
        "    plt.figure(figsize=(4, 4))\n",
        "    h, b = np.histogram(sample_x[:, 0], bins=100)\n",
        "    bin_means = 0.5*(b[:-1] + b[1:])\n",
        "    Eh = -np.log(h) / temperature\n",
        "    if plot:\n",
        "        Ex, E = double_well.plot_dimer_energy(temperature=temperature)\n",
        "        Eh = Eh - Eh.min() + E.min()\n",
        "        plt.plot(bin_means, Eh, color='green', linewidth=2)\n",
        "    return bin_means, Eh"
      ],
      "execution_count": 6,
      "outputs": []
    },
    {
      "cell_type": "markdown",
      "metadata": {
        "id": "dlDBNewhMyCh",
        "colab_type": "text"
      },
      "source": [
        "Double well\n",
        "---"
      ]
    },
    {
      "cell_type": "code",
      "metadata": {
        "id": "3tjfXcrfMyCu",
        "colab_type": "code",
        "colab": {
          "base_uri": "https://localhost:8080/",
          "height": 337
        },
        "outputId": "61f16c5a-c724-42ee-c217-1344db845b8d"
      },
      "source": [
        "params = DoubleWell.params_default.copy()\n",
        "params['dim'] =2\n",
        "double_well = DoubleWell(params=params)\n",
        "plt.figure(figsize=(5,5))\n",
        "double_well.plot_dimer_energy();"
      ],
      "execution_count": 7,
      "outputs": [
        {
          "output_type": "display_data",
          "data": {
            "image/png": "[encoded data removed]",
            "text/plain": [
              "<Figure size 360x360 with 1 Axes>"
            ]
          },
          "metadata": {
            "tags": [],
            "needs_background": "light"
          }
        }
      ]
    },
    {
      "cell_type": "code",
      "metadata": {
        "id": "NS52finCMyC3",
        "colab_type": "code",
        "colab": {}
      },
      "source": [
        "def plot_potential(cbar=True, orientation='vertical', figsize=(4, 5.5)):\n",
        "    # 2D potential\n",
        "    xgrid = np.linspace(-3, 3, 100)\n",
        "    ygrid = np.linspace(-7, 7, 100)\n",
        "    Xgrid, Ygrid = np.meshgrid(xgrid, ygrid)\n",
        "    X = np.vstack([Xgrid.flatten(), Ygrid.flatten()]).T\n",
        "    E = double_well.energy(X)\n",
        "    E = E.reshape((100, 100))\n",
        "    E = np.minimum(E, 10.0)\n",
        "    plt.figure(figsize=figsize)\n",
        "    plt.contourf(Xgrid, Ygrid, E, 50, cmap='jet', vmax=4)\n",
        "    if cbar:\n",
        "        if orientation == 'horizontal':\n",
        "            cbar = plt.colorbar(orientation='horizontal', shrink=0.3, aspect=10, anchor=(0.5, 7.5), use_gridspec=False)#, anchor=(0, 0.5))\n",
        "            cbar.outline.set_linewidth(1)\n",
        "            cbar.outline.set_color('white')\n",
        "            cbar.outline.fill = False\n",
        "            plt.setp(plt.getp(cbar.ax.axes, 'xticklabels'), color='w')\n",
        "            cbar.ax.xaxis.set_tick_params(color='white')\n",
        "            #cbar.set_label('Energy / kT', labelpad=0, y=0.0, color='white')\n",
        "        else:\n",
        "            cbar = plt.colorbar()\n",
        "            cbar.set_label('Energy / kT', labelpad=-15, y=0.6)\n",
        "        cbar.set_ticks([-10, 0, 10])\n",
        "    plt.xticks([-2, 0, 2])\n",
        "    plt.yticks([-5, 0, 5])\n",
        "    plt.xlabel('$x_1$', labelpad=0)\n",
        "    plt.ylabel('$x_2$', labelpad=-10)"
      ],
      "execution_count": 8,
      "outputs": []
    },
    {
      "cell_type": "code",
      "metadata": {
        "id": "VYCbx_teMyDE",
        "colab_type": "code",
        "colab": {
          "base_uri": "https://localhost:8080/",
          "height": 269
        },
        "outputId": "e2be7753-1315-483f-c19b-f8df044564cb"
      },
      "source": [
        "plot_potential(orientation='horizontal')"
      ],
      "execution_count": 9,
      "outputs": [
        {
          "output_type": "display_data",
          "data": {
            "image/png": "[encoded data removed]",
            "text/plain": [
              "<Figure size 288x396 with 2 Axes>"
            ]
          },
          "metadata": {
            "tags": []
          }
        }
      ]
    },
    {
      "cell_type": "markdown",
      "metadata": {
        "id": "iXTWdPaV4zKv",
        "colab_type": "text"
      },
      "source": [
        "Network properties \n",
        "--------------------"
      ]
    },
    {
      "cell_type": "code",
      "metadata": {
        "id": "xe4I-zMv46IB",
        "colab_type": "code",
        "colab": {}
      },
      "source": [
        ""
      ],
      "execution_count": null,
      "outputs": []
    },
    {
      "cell_type": "markdown",
      "metadata": {
        "id": "XN5Sh9hKMyEx",
        "colab_type": "text"
      },
      "source": [
        "Standard training without samples\n",
        "-------"
      ]
    },
    {
      "cell_type": "code",
      "metadata": {
        "id": "ujzcp7tLvQ6I",
        "colab_type": "code",
        "colab": {
          "base_uri": "https://localhost:8080/",
          "height": 201
        },
        "outputId": "28a8ebd8-00b0-408b-93b4-abf28ad265a2"
      },
      "source": [
        "network_NICER_KL = invnet(double_well.dim, 'NNNNS', double_well, nl_layers=3, nl_hidden=100, \n",
        "                            nl_activation='relu', nl_activation_scale='tanh')"
      ],
      "execution_count": 49,
      "outputs": [
        {
          "output_type": "stream",
          "text": [
            "<NNNN>S\n",
            "< 2 0 0\n",
            "N 1 1 0\n",
            "N 1 1 0\n",
            "N 1 1 0\n",
            "N 1 1 0\n",
            "> 1 1 0\n",
            "S 2 0 0\n",
            "tracking <tf.Variable 'log_scale:0' shape=(1, 2) dtype=float32, numpy=array([[0., 0.]], dtype=float32)> log_scaling_factors\n",
            "tracking <tf.Variable 'log_scale:0' shape=(1, 2) dtype=float32, numpy=array([[0., 0.]], dtype=float32)> log_scaling_factors\n"
          ],
          "name": "stdout"
        }
      ]
    },
    {
      "cell_type": "code",
      "metadata": {
        "id": "_Q2K4i4g29eQ",
        "colab_type": "code",
        "colab": {}
      },
      "source": [
        "def train_simple(self, optimizer=None, lr=0.001, epochs=2000, batch_size=1024,\n",
        "                 verbose=1, clipnorm=None, temperature=1.0):   \n",
        "        if optimizer is None:\n",
        "            if clipnorm is None:\n",
        "                optimizer = keras.optimizers.adam(lr=lr)\n",
        "            else:\n",
        "                optimizer = keras.optimizers.adam(lr=lr, clipnorm=clipnorm)\n",
        "\n",
        "        def loss_KL(y_true, y_pred):       \n",
        "            x = self.output_x        \n",
        "            # compute energy\n",
        "            E = self.energy_model.energy_tf(x) / temperature\n",
        "            return self.log_det_Jzx[:, 0] + E\n",
        "\n",
        "        self.Tzx.compile(optimizer, loss=loss_KL)\n",
        "\n",
        "        dummy_output = np.zeros((batch_size, self.dim))\n",
        "        train_loss = []\n",
        "        train_x = []\n",
        "        for e in range(epochs):\n",
        "            # train in batches (simple normal distribution)       \n",
        "            z = np.random.randn(batch_size, self.dim)\n",
        "            x = self.transform_zx(z)\n",
        "            train_x.append(x)\n",
        "            # this should work in tf2 with None \n",
        "            train_loss_batch = self.Tzx.train_on_batch(x=z, y=dummy_output)\n",
        "            train_loss.append(train_loss_batch)\n",
        "        train_loss = np.array(train_loss)\n",
        "        return train_loss, train_x"
      ],
      "execution_count": 51,
      "outputs": []
    },
    {
      "cell_type": "code",
      "metadata": {
        "id": "YVGLzvt1I11t",
        "colab_type": "code",
        "colab": {}
      },
      "source": [
        "epochs = 100\n",
        "batchsize = 5000"
      ],
      "execution_count": 52,
      "outputs": []
    },
    {
      "cell_type": "code",
      "metadata": {
        "id": "ZqZ8s2GKI4sM",
        "colab_type": "code",
        "colab": {}
      },
      "source": [
        "T1_0_train_loss, T1_0_train_x = train_simple(network_NICER_KL, epochs=epochs, batch_size=batchsize, temperature=1)"
      ],
      "execution_count": 53,
      "outputs": []
    },
    {
      "cell_type": "code",
      "metadata": {
        "id": "TWDXE7oEI6gm",
        "colab_type": "code",
        "colab": {}
      },
      "source": [
        "T0_1_train_loss, T0_1_train_x = train_simple(network_NICER_KL, epochs=epochs, batch_size=batchsize, temperature=0.1)"
      ],
      "execution_count": 54,
      "outputs": []
    },
    {
      "cell_type": "code",
      "metadata": {
        "id": "3JKxGt3FEoGz",
        "colab_type": "code",
        "colab": {
          "base_uri": "https://localhost:8080/",
          "height": 268
        },
        "outputId": "dea1eea0-e2fb-438b-8337-d38caf74ede6"
      },
      "source": [
        "import seaborn as sns\n",
        "sns.set(color_codes=True)\n",
        "for x in T1_0_train_x[::10]:\n",
        "  sns.distplot(x, hist=False);"
      ],
      "execution_count": 56,
      "outputs": [
        {
          "output_type": "display_data",
          "data": {
            "image/png": "[encoded data removed]",
            "text/plain": [
              "<Figure size 432x288 with 1 Axes>"
            ]
          },
          "metadata": {
            "tags": []
          }
        }
      ]
    },
    {
      "cell_type": "code",
      "metadata": {
        "id": "AEDiQoMAFNuN",
        "colab_type": "code",
        "colab": {
          "base_uri": "https://localhost:8080/",
          "height": 268
        },
        "outputId": "d6dace37-6626-4442-aa37-74709b758a1a"
      },
      "source": [
        "sns.set(color_codes=True)\n",
        "for x in T0_1_train_x[::10]:\n",
        "  sns.distplot(x, hist=False);\n"
      ],
      "execution_count": 57,
      "outputs": [
        {
          "output_type": "display_data",
          "data": {
            "image/png": "[encoded data removed]",
            "text/plain": [
              "<Figure size 432x288 with 1 Axes>"
            ]
          },
          "metadata": {
            "tags": []
          }
        }
      ]
    },
    {
      "cell_type": "code",
      "metadata": {
        "id": "csduo8hLJR_A",
        "colab_type": "code",
        "colab": {}
      },
      "source": [
        ""
      ],
      "execution_count": null,
      "outputs": []
    }
  ]
}